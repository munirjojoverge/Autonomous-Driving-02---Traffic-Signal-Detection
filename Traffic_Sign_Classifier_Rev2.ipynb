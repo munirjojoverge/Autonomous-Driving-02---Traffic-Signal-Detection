{
 "cells": [
  {
   "cell_type": "markdown",
   "metadata": {},
   "source": [
    "# Self-Driving Car Engineer Nanodegree\n",
    "\n",
    "## Deep Learning\n",
    "\n",
    "## Project: Build a Traffic Sign Recognition Classifier\n",
    "\n",
    "In this notebook, a template is provided for you to implement your functionality in stages which is required to successfully complete this project. If additional code is required that cannot be included in the notebook, be sure that the Python code is successfully imported and included in your submission, if necessary. Sections that begin with **'Implementation'** in the header indicate where you should begin your implementation for your project. Note that some sections of implementation are optional, and will be marked with **'Optional'** in the header.\n",
    "\n",
    "In addition to implementing code, there will be questions that you must answer which relate to the project and your implementation. Each section where you will answer a question is preceded by a **'Question'** header. Carefully read each question and provide thorough answers in the following text boxes that begin with **'Answer:'**. Your project submission will be evaluated based on your answers to each of the questions and the implementation you provide.\n",
    "\n",
    ">**Note:** Code and Markdown cells can be executed using the **Shift + Enter** keyboard shortcut. In addition, Markdown cells can be edited by typically double-clicking the cell to enter edit mode."
   ]
  },
  {
   "cell_type": "markdown",
   "metadata": {},
   "source": [
    "---\n",
    "\n",
    "## Step 1: Dataset Exploration\n",
    "\n",
    "Visualize the German Traffic Signs Dataset. This is open ended, some suggestions include: plotting traffic signs images, plotting the count of each sign, etc. Be creative!\n",
    "\n",
    "\n",
    "The pickled data is a dictionary with 4 key/value pairs:\n",
    "\n",
    "- features -> the images pixel values, (width, height, channels)\n",
    "- labels -> the label of the traffic sign\n",
    "- sizes -> the original width and height of the image, (width, height)\n",
    "- coords -> coordinates of a bounding box around the sign in the image, (x1, y1, x2, y2). Based the original image (not the resized version)."
   ]
  },
  {
   "cell_type": "code",
   "execution_count": null,
   "metadata": {
    "collapsed": true
   },
   "outputs": [],
   "source": [
    "import pandas as pd"
   ]
  },
  {
   "cell_type": "code",
   "execution_count": null,
   "metadata": {
    "collapsed": false
   },
   "outputs": [],
   "source": [
    "import numpy as np\n",
    "import tensorflow as tf\n",
    "import time\n",
    "import matplotlib.pyplot as plt\n",
    "import matplotlib.image as mpimg\n",
    "import os\n",
    "%matplotlib inline"
   ]
  },
  {
   "cell_type": "code",
   "execution_count": null,
   "metadata": {
    "collapsed": false
   },
   "outputs": [],
   "source": [
    "from multiprocessing import Queue"
   ]
  },
  {
   "cell_type": "code",
   "execution_count": null,
   "metadata": {
    "collapsed": false
   },
   "outputs": [],
   "source": [
    "import json\n",
    "import os\n",
    "#import urllib2\n",
    "import IPython\n",
    "from IPython.lib import kernel\n",
    "connection_file_path = kernel.get_connection_file()\n",
    "connection_file = os.path.basename(connection_file_path)\n",
    "kernel_id = connection_file.split('-', 1)[1].split('.')[0]\n",
    "\n",
    "print (\"Path =\", connection_file_path)\n",
    "print (\"File =\", connection_file)"
   ]
  },
  {
   "cell_type": "code",
   "execution_count": null,
   "metadata": {
    "collapsed": true
   },
   "outputs": [],
   "source": [
    "# Load pickled data\n",
    "import pickle\n",
    "\n",
    "# TODO: Fill this in based on where you saved the training and testing data\n",
    "\n",
    "training_file = 'c:/Users/jojom001/Documents/Udacity/CarND-Traffic-Sign-Classifier-Project/Data/train.p'\n",
    "testing_file = 'c:/Users/jojom001/Documents/Udacity/CarND-Traffic-Sign-Classifier-Project/Data/test.p'\n",
    "\n",
    "with open(training_file, mode='rb') as f:\n",
    "    train = pickle.load(f)\n",
    "with open(testing_file, mode='rb') as f:\n",
    "    test = pickle.load(f)"
   ]
  },
  {
   "cell_type": "code",
   "execution_count": null,
   "metadata": {
    "collapsed": false,
    "scrolled": false
   },
   "outputs": [],
   "source": [
    "# Basic data summary.\n",
    "\n",
    "n_train = len(train['features'])\n",
    "n_test = len(test['features'])\n",
    "image_shape = train['features'][0].shape\n",
    "n_classes = len(set(train['labels']))\n",
    "\n",
    "print(\"Number of training examples =\", n_train)\n",
    "print(\"Number of testing examples =\", n_test)\n",
    "print(\"Image data shape =\", image_shape)\n",
    "print(\"Number of classes =\", n_classes)"
   ]
  },
  {
   "cell_type": "raw",
   "metadata": {},
   "source": [
    "Visualize the German Traffic Signs Dataset using the pickled file(s). This is open ended, suggestions include: plotting traffic sign images, plotting the count of each sign, etc.\n",
    "\n",
    "The [Matplotlib](http://matplotlib.org/) [examples](http://matplotlib.org/examples/index.html) and [gallery](http://matplotlib.org/gallery.html) pages are a great resource for doing visualizations in Python.\n",
    "\n",
    "**NOTE:** It's recommended you start with something simple first. If you wish to do more, come back to it after you've completed the rest of the sections."
   ]
  },
  {
   "cell_type": "code",
   "execution_count": null,
   "metadata": {
    "collapsed": false
   },
   "outputs": [],
   "source": [
    "### Data exploration visualization goes here.\n",
    "### Feel free to use as many code cells as needed.\n",
    "import matplotlib.pyplot as plt\n",
    "# Visualizations will be shown in the notebook.\n",
    "%matplotlib inline\n",
    "\n",
    "# Plot four sample images\n",
    "print('Sample images')\n",
    "for i in range(4):\n",
    "    plt.subplot(2,2,i+1)\n",
    "    plt.imshow(X_train[i*1500+1])"
   ]
  },
  {
   "cell_type": "code",
   "execution_count": null,
   "metadata": {
    "collapsed": false
   },
   "outputs": [],
   "source": [
    "# Plot a histogram of the count of the number of examples of each sign\n",
    "# in the test set\n",
    "\n",
    "plt.hist(y_train, bins=n_classes)\n",
    "plt.title('Number of examples of each sign in the training set')\n",
    "plt.xlabel('Sign')\n",
    "plt.ylabel('Count')\n",
    "plt.plot()"
   ]
  },
  {
   "cell_type": "code",
   "execution_count": null,
   "metadata": {
    "collapsed": false
   },
   "outputs": [],
   "source": [
    "plt.imshow(X_train[17031])"
   ]
  },
  {
   "cell_type": "markdown",
   "metadata": {},
   "source": [
    "----\n",
    "\n",
    "## Step 2: Design and Test a Model Architecture\n",
    "\n",
    "Design and implement a deep learning model that learns to recognize traffic signs. Train and test your model on the [German Traffic Sign Dataset](http://benchmark.ini.rub.de/?section=gtsrb&subsection=dataset).\n",
    "\n",
    "There are various aspects to consider when thinking about this problem:\n",
    "\n",
    "- Your model can be derived from a deep feedforward net or a deep convolutional network.\n",
    "- Play around preprocessing techniques (normalization, rgb to grayscale, etc)\n",
    "- Number of examples per label (some have more than others).\n",
    "- Generate fake data.\n",
    "\n",
    "Here is an example of a [published baseline model on this problem](http://yann.lecun.com/exdb/publis/pdf/sermanet-ijcnn-11.pdf). It's not required to be familiar with the approach used in the paper but, it's good practice to try to read papers like these."
   ]
  },
  {
   "cell_type": "markdown",
   "metadata": {},
   "source": [
    "### Implementation\n",
    "\n",
    "Use the code cell (or multiple code cells, if necessary) to implement the first step of your project. Once you have completed your implementation and are satisfied with the results, be sure to thoroughly answer the questions that follow."
   ]
  },
  {
   "cell_type": "markdown",
   "metadata": {},
   "source": [
    "### 2.1 Preprocess Data (includes shuffling)"
   ]
  },
  {
   "cell_type": "code",
   "execution_count": null,
   "metadata": {
    "collapsed": true
   },
   "outputs": [],
   "source": [
    "# Shuffle training examples\n",
    "from sklearn.utils import shuffle\n",
    "X_train, y_train = shuffle(X_train, y_train, random_state=42)"
   ]
  },
  {
   "cell_type": "markdown",
   "metadata": {},
   "source": [
    "#### 2.1.2 Normalisation"
   ]
  },
  {
   "cell_type": "code",
   "execution_count": null,
   "metadata": {
    "collapsed": true
   },
   "outputs": [],
   "source": [
    "X_train_orig = X_train\n",
    "X_test_orig = X_test"
   ]
  },
  {
   "cell_type": "code",
   "execution_count": null,
   "metadata": {
    "collapsed": false
   },
   "outputs": [],
   "source": [
    "# Normalise input (images still in colour)\n",
    "X_train = (X_train - X_train.mean()) / (np.max(X_train) - np.min(X_train))\n",
    "X_test = (X_test - X_test.mean()) / (np.max(X_test) - np.min(X_test))"
   ]
  },
  {
   "cell_type": "code",
   "execution_count": null,
   "metadata": {
    "collapsed": false
   },
   "outputs": [],
   "source": [
    "def plot_norm_image(image_index):\n",
    "    \"\"\"Plots original image on the left and normalised image on the right.\"\"\"\n",
    "    plt.subplot(2,2,1)\n",
    "    plt.imshow(X_train_orig[image_index])\n",
    "    plt.subplot(2,2,2)\n",
    "    plt.imshow(X_train[image_index])"
   ]
  },
  {
   "cell_type": "code",
   "execution_count": null,
   "metadata": {
    "collapsed": false
   },
   "outputs": [],
   "source": [
    "plot_norm_image(20)"
   ]
  },
  {
   "cell_type": "markdown",
   "metadata": {},
   "source": [
    "### Question 1 \n",
    "\n",
    "_Describe the techniques used to preprocess the data._"
   ]
  },
  {
   "cell_type": "markdown",
   "metadata": {},
   "source": [
    "**Answer:**\n",
    "* I decided not to grayscale the data because colours may be relevant. For example, a stop sign might be an upside-down red triangle, and knowing the colour of the triangle may help us predict the sign correctly. \n",
    "* I **normalised the data**. I [found that normalising the data (as opposed to standardising it) gives the higher validation and training accuracy for a two-layer feedforward network](https://github.com/jessicayung/self-driving-car-nd/blob/master/p2-traffic-signs/Comparison%20of%20model%20performance%20using%20original%2C%20standardised%20and%20normalised%20data.ipynb). This is because it accelerates the convergence of the model to the solution (of accurate classificaion)."
   ]
  },
  {
   "cell_type": "markdown",
   "metadata": {},
   "source": [
    "### 2.2 Split into training, validation and test sets"
   ]
  },
  {
   "cell_type": "code",
   "execution_count": null,
   "metadata": {
    "collapsed": true
   },
   "outputs": [],
   "source": [
    "from sklearn.model_selection import train_test_split\n",
    "X_train, X_val, y_train, y_val = train_test_split(X_train, y_train,\n",
    "                                                  test_size=0.2,\n",
    "                                                  random_state=42)"
   ]
  },
  {
   "cell_type": "markdown",
   "metadata": {},
   "source": [
    "### Question 2\n",
    "\n",
    "_Describe how you set up the training, validation and testing data for your model. If you generated additional data, why?_"
   ]
  },
  {
   "cell_type": "markdown",
   "metadata": {},
   "source": [
    "**Answer:**"
   ]
  },
  {
   "cell_type": "markdown",
   "metadata": {},
   "source": [
    "* Training and test data were already separated (downloaded pickled files `train.p` and `test.p`).\n",
    "* I **shuffled the training data** because they were arranged in ascending order by label. If I don't shuffle the training data, the first series of batches will all be the first type of sign followed by the second type and so on. This will distort the learning process.\n",
    "* I **further split the training data into test and valdiation sets** so the model wouldn't be cheating when we optimised it.\n",
    "* **Improvement**: Generate additional data. The number of examples in the training data for each class is uneven, so the model may be biased towards predicting an unknown sign belongs to a class where there is abundant training data since we are minimising the training loss."
   ]
  },
  {
   "cell_type": "markdown",
   "metadata": {},
   "source": [
    "### 2.3 Model Architecture"
   ]
  },
  {
   "cell_type": "code",
   "execution_count": null,
   "metadata": {
    "collapsed": true
   },
   "outputs": [],
   "source": [
    "# Network parameters\n",
    "n_input = 32 * 32 * 3\n",
    "nb_filters = 32\n",
    "kernel_size = (3, 3)\n",
    "input_shape = (32, 32, 3)\n",
    "n_fc1 = 512\n",
    "n_fc2 = 128\n",
    "in_channels = 3\n",
    "pool_size = 2 # i.e. (2,2)\n",
    "\n",
    "dropout_conv = 0.9\n",
    "dropout_fc = 0.9\n",
    "\n",
    "weights_stddev = 0.1\n",
    "weights_mean = 0.0\n",
    "biases_mean = 0.0\n",
    "\n",
    "padding = 'VALID'\n",
    "if padding == 'SAME':\n",
    "    conv_output_length = 6\n",
    "elif padding == 'VALID':\n",
    "    conv_output_length = 5\n",
    "else:\n",
    "    raiseException(\"Unknown padding.\")"
   ]
  },
  {
   "cell_type": "code",
   "execution_count": null,
   "metadata": {
    "collapsed": true
   },
   "outputs": [],
   "source": [
    "# tf Graph input\n",
    "x_unflattened = tf.placeholder(\"float\", [None, 32, 32, 3])\n",
    "x = x_unflattened\n",
    "\n",
    "y_rawlabels = tf.placeholder(\"int32\", [None])\n",
    "y = tf.one_hot(y_rawlabels, depth=43, on_value=1., off_value=0., axis=-1)"
   ]
  },
  {
   "cell_type": "code",
   "execution_count": null,
   "metadata": {
    "collapsed": false
   },
   "outputs": [],
   "source": [
    "## Create model\n",
    "\n",
    "def conv2d(x, W, b, strides=3):\n",
    "    \"\"\"Conv2D wrapper, with bias and relu activation\"\"\"\n",
    "    # strides = [batch, in_height, in_width, channels]\n",
    "    x = tf.nn.conv2d(x, W, strides=[1, strides, strides, 1], padding='SAME')\n",
    "    x = tf.nn.bias_add(x, b)\n",
    "    return tf.nn.relu(x)\n",
    "\n",
    "\n",
    "def maxpool2d(x, k=2, padding_setting='SAME'):\n",
    "    \"\"\"MaxPool2D wrapper.\"\"\"\n",
    "    return tf.nn.max_pool(x, ksize=[1, k, k, 1], strides=[1, k, k, 1],\n",
    "                          padding=padding_setting)\n",
    "\n",
    "def conv_net(model_x, model_weights, model_biases, model_pool_size, \n",
    "             model_dropout_conv, model_dropout_fc, padding='SAME'):\n",
    "    \"\"\"Convolutional neural network model.\"\"\"\n",
    "    # Convolution Layer 1\n",
    "    conv1 = conv2d(model_x, model_weights['conv1'], model_biases['conv1'])\n",
    "    # Max Pooling (down-sampling)\n",
    "    conv1 = maxpool2d(conv1, k=model_pool_size, padding_setting=padding)\n",
    "    conv1 = tf.nn.dropout(conv1, model_dropout_conv)\n",
    "\n",
    "    # Fully connected layer 1\n",
    "    # Reshape conv1 output to fit fully connected layer input\n",
    "    conv1_shape = conv1.get_shape().as_list()\n",
    "    fc1 = tf.reshape(conv1, [-1, conv1_shape[1]*conv1_shape[2]*conv1_shape[3]])\n",
    "    fc1 = tf.add(tf.matmul(fc1, model_weights['fc1']), model_biases['fc1'])\n",
    "    fc1 = tf.nn.relu(fc1)\n",
    "    fc1 = tf.nn.dropout(fc1, model_dropout_fc)\n",
    "    # Fully connected layer 2\n",
    "    fc2 = tf.add(tf.matmul(fc1, model_weights['fc2']), model_biases['fc2'])\n",
    "    fc2 = tf.nn.relu(fc2)\n",
    "    fc2 = tf.nn.dropout(fc2, model_dropout_fc)\n",
    "    # Output layer\n",
    "    output = tf.add(tf.matmul(fc2, model_weights['out']), model_biases['out'])\n",
    "    # Note: Softmax is outside the model\n",
    "    return output\n",
    "\n",
    "\n",
    "## Store layers weight & bias\n",
    "\n",
    "# NEW: initialise neurons with slightly positive initial bias\n",
    "# to avoid dead neurons.\n",
    "def weight_variable(shape, weight_mean, weight_stddev):\n",
    "    initial = tf.truncated_normal(shape, stddev=weight_stddev, mean=weight_mean)\n",
    "    # alt: tf.random_normal(shape)\n",
    "    return tf.Variable(initial)\n",
    "\n",
    "\n",
    "def bias_variable(shape, bias_mean):\n",
    "    initial = tf.constant(bias_mean, shape=shape)\n",
    "    return tf.Variable(initial)\n",
    "\n",
    "\n",
    "weights = {\n",
    "    'conv1': weight_variable([kernel_size[0], kernel_size[1], in_channels, nb_filters], weights_mean, weights_stddev),\n",
    "    'fc1': weight_variable([nb_filters * conv_output_length**2, n_fc1], weights_mean, weights_stddev),\n",
    "    'fc2': weight_variable([n_fc1, n_fc2], weights_mean, weights_stddev),\n",
    "    'out': weight_variable([n_fc2, n_classes], weights_mean, weights_stddev)\n",
    "}\n",
    "\n",
    "biases = {\n",
    "    'conv1': bias_variable([nb_filters], biases_mean),\n",
    "    'fc1': bias_variable([n_fc1], biases_mean),\n",
    "    'fc2': bias_variable([n_fc2], biases_mean),\n",
    "    'out': bias_variable([n_classes], biases_mean)\n",
    "}"
   ]
  },
  {
   "cell_type": "markdown",
   "metadata": {},
   "source": [
    "References: \n",
    "https://github.com/aymericdamien/TensorFlow-Examples/blob/master/examples/3_NeuralNetworks/\n"
   ]
  },
  {
   "cell_type": "markdown",
   "metadata": {},
   "source": [
    "### Question 3\n",
    "\n",
    "_What does your final architecture look like? (Type of model, layers, sizes, connectivity, etc.)  For reference on how to build a deep neural network using TensorFlow, see [Deep Neural Network in TensorFlow\n",
    "](https://classroom.udacity.com/nanodegrees/nd013/parts/fbf77062-5703-404e-b60c-95b78b2f3f9e/modules/6df7ae49-c61c-4bb2-a23e-6527e69209ec/lessons/b516a270-8600-4f93-a0a3-20dfeabe5da6/concepts/83a3a2a2-a9bd-4b7b-95b0-eb924ab14432) from the classroom._\n"
   ]
  },
  {
   "cell_type": "markdown",
   "metadata": {},
   "source": [
    "**Answer:**\n",
    "\n"
   ]
  },
  {
   "cell_type": "markdown",
   "metadata": {},
   "source": [
    "* My final architecture is a 3-layer Convolutional Neural Network.\n",
    "* It consists of one convolution layer (feature extraction) followed by two fully connected layers (ReLU activation) and a single fully connected linear classifier.\n",
    "<table>\n",
    "  <th>Layer Name</th><th>Dimensions</th><th>Layer Components</th>\n",
    "  <tr>\n",
    "    <td>Convolution layer 1</td>\n",
    "    <td><ul><li>Input: (32, 32, 3)</li><li>Output: (5, 5, 32)</li></ul></td>\n",
    "    <td>\n",
    "        <ol>\n",
    "          <li>2D Convolution layer \n",
    "              <ul><li>'VALID' padding</li><li>Filters: 32</li><li>Stride: 3</li></ul>\n",
    "          </li>\n",
    "          <li>ReLU Activation</li>\n",
    "          <li>2D Max Pooling (down-sampling) layer <ul><li>'VALID' padding</li><li>Kernel size: 2</li></ul></li>\n",
    "          <li>Dropout: 0.9 (keep 90% of neurons)</li>\n",
    "        </ol>\n",
    "    </td>\n",
    "  </tr>\n",
    "  <tr>\n",
    "    <td>Reshape conv1 output</td>\n",
    "    <td><ul><li>Input: (5, 5, 32)</li><li>Output: 800</li></ul></td>\n",
    "    <td></td>\n",
    "  </tr>\n",
    "  <tr>\n",
    "    <td>Fully connected layer 1</td>\n",
    "    <td><ul><li>Input: 800</li><li>Output: 512</li></ul></td>\n",
    "    <td><ol><li>WX+b</li><li>ReLU Activation</li><li>Dropout: 0.9</li></ol></td>\n",
    "  </tr>\n",
    "  <tr>\n",
    "    <td>Fully connected layer 2</td>\n",
    "    <td><ul><li>Input: 512</li><li>Output: 128</li></ul></td>\n",
    "    <td><ol><li>WX+b</li><li>ReLU Activation</li><li>Dropout: 0.9</li></ol></td>\n",
    "  </tr>\n",
    "  <tr>\n",
    "    <td>Output layer</td>\n",
    "    <td><ul><li>Input: 128</li><li>Output: 43</li></ul></td>\n",
    "    <td><ol><li>WX+B</li></ol></td>\n",
    "  </tr>\n",
    "</table>\n",
    "* The network uses full colour information (all three channels) and normalised data.\n",
    "\n",
    "References:\n",
    "* The code is based on [Aymeric Damien's implementation of a CNN in TensorFlow](https://github.com/aymericdamien/TensorFlow-Examples/blob/master/examples/3_NeuralNetworks/convolutional_network.py)."
   ]
  },
  {
   "cell_type": "markdown",
   "metadata": {},
   "source": [
    "### 2.4 Training the model"
   ]
  },
  {
   "cell_type": "code",
   "execution_count": null,
   "metadata": {
    "collapsed": false,
    "scrolled": true
   },
   "outputs": [],
   "source": [
    "# Training parameters\n",
    "learning_rate = 0.001\n",
    "initial_learning_rate = learning_rate\n",
    "training_epochs = 150\n",
    "batch_size = 100\n",
    "display_step = 1\n",
    "n_train = len(X_train)\n",
    "\n",
    "anneal_mod_frequency = 15\n",
    "# Annealing rate of 1: learning rate remains constant.\n",
    "annealing_rate = 1\n",
    "\n",
    "print_accuracy_mod_frequency = 1\n",
    "\n",
    "# Construct model\n",
    "pred = conv_net(x, weights, biases, pool_size, dropout_conv, dropout_fc, padding=padding)\n",
    "pred_probs = tf.nn.softmax(pred)\n",
    "\n",
    "# Define loss and optimizer\n",
    "cost = tf.reduce_mean(tf.nn.softmax_cross_entropy_with_logits(pred, y))\n",
    "optimizer = tf.train.AdamOptimizer(learning_rate=learning_rate).minimize(cost)\n",
    "\n",
    "# Function to initialise the variables\n",
    "init = tf.initialize_all_variables()\n",
    "\n",
    "### RUN MODEL ###\n",
    "# Launch the graph\n",
    "sess = tf.Session()\n",
    "\n",
    "# Initialise variables\n",
    "sess.run(init)\n",
    "\n",
    "# Initialise time logs\n",
    "init_time = time.time()\n",
    "epoch_time = init_time\n",
    "\n",
    "five_epoch_moving_average = 0.\n",
    "epoch_accuracies = []\n",
    "\n",
    "# Training cycle\n",
    "for epoch in range(training_epochs):\n",
    "    if five_epoch_moving_average > 0.96:\n",
    "        break\n",
    "        \n",
    "    avg_cost = 0.\n",
    "\n",
    "    total_batch = int(n_train / batch_size)\n",
    "    # Loop over all batches\n",
    "    for i in range(total_batch):\n",
    "        batch_x, batch_y = np.array(X_train[i * batch_size:(i + 1) * batch_size]), \\\n",
    "                           np.array(y_train[i * batch_size:(i + 1) * batch_size])\n",
    "        # tf.train.batch([X_train, y_train], batch_size=100, enqueue_many=True)\n",
    "        # Run optimization op (backprop) and cost op (to get loss value)\n",
    "        _, c = sess.run([optimizer, cost], feed_dict={x_unflattened: batch_x, y_rawlabels: batch_y})\n",
    "        # Compute average loss\n",
    "        avg_cost += c / total_batch\n",
    "        # print(avg_cost)\n",
    "    # Display logs per epoch step\n",
    "    if epoch % display_step == 0:\n",
    "        print(\"Epoch:\", '%04d' % (epoch + 1), \"cost=\",\n",
    "              \"{:.9f}\".format(avg_cost))\n",
    "        last_epoch_time = epoch_time\n",
    "        epoch_time = time.time()\n",
    "        # print(\"Time since last epoch: \", epoch_time - last_epoch_time)\n",
    "    # Anneal learning rate\n",
    "    if (epoch + 1) % anneal_mod_frequency == 0:\n",
    "        learning_rate *= annealing_rate\n",
    "        print(\"New learning rate: \", learning_rate)\n",
    "\n",
    "    if (epoch + 1) % print_accuracy_mod_frequency == 0:\n",
    "        correct_prediction = tf.equal(tf.argmax(pred, 1), tf.argmax(y, 1))\n",
    "        accuracy = tf.reduce_mean(tf.cast(correct_prediction, \"float\"))\n",
    "        # Line below needed only when not using `with tf.Session() as sess`\n",
    "        with sess.as_default():\n",
    "            epoch_accuracy = accuracy.eval({x_unflattened: X_val, y_rawlabels: y_val})\n",
    "            # TODO: optimise five_epoch_moving_average, e.g. using a queue            \n",
    "            epoch_accuracies.append(epoch_accuracy)\n",
    "            if epoch >= 4:\n",
    "                five_epoch_moving_average = np.sum(epoch_accuracies[epoch-5:epoch]) / 5\n",
    "                print(\"Five epoch moving average: \", five_epoch_moving_average)\n",
    "            print(\"Accuracy (validation):\", epoch_accuracy)\n",
    "\n",
    "print(\"Optimization Finished!\")\n",
    "\n",
    "# Test model\n",
    "correct_prediction = tf.equal(tf.argmax(pred, 1), tf.argmax(y, 1))\n",
    "# Calculate accuracy\n",
    "# accuracy_train = tf.reduce_mean(tf.cast(correct_prediction, \"float\"))\n",
    "# print(\"Accuracy (train):\", accuracy_train.eval({x_unflattened: X_train, y_rawlabels: y_train}))\n",
    "train_predict_time = time.time()\n",
    "# print(\"Time to calculate accuracy on training set: \", train_predict_time - epoch_time)\n",
    "accuracy = tf.reduce_mean(tf.cast(correct_prediction, \"float\"))\n",
    "# Line below needed only when not using `with tf.Session() as sess`\n",
    "with sess.as_default():\n",
    "    print(\"Accuracy (test):\", accuracy.eval({x_unflattened: X_test, y_rawlabels: y_test}))\n",
    "test_predict_time = time.time()\n",
    "print(\"Time to calculate accuracy on test set: \", test_predict_time - train_predict_time)\n",
    "\n",
    "# Print parameters for reference\n",
    "print(\"\\nParameters:\")\n",
    "print(\"Learning rate (initial): \", initial_learning_rate)\n",
    "print(\"Anneal learning rate every \", anneal_mod_frequency, \" epochs by \", 1 - annealing_rate)\n",
    "print(\"Learning rate (final): \", learning_rate)\n",
    "print(\"Training epochs: \", training_epochs)\n",
    "print(\"Batch size: \", batch_size)\n",
    "print(\"Dropout (conv): \", dropout_conv)\n",
    "print(\"Dropout (fc): \", dropout_fc)\n",
    "print(\"Padding: \", padding)\n",
    "print(\"weights_mean: \", weights_mean)\n",
    "print(\"weights_stddev: \", weights_stddev)\n",
    "print(\"biases_mean: \", biases_mean)"
   ]
  },
  {
   "cell_type": "markdown",
   "metadata": {},
   "source": [
    "**Deprecated code**:\n",
    "* Potential alternantive for batching:\n",
    "`tf.train.batch([X_train, y_train], batch_size=100, enqueue_many=True)\n",
    "`"
   ]
  },
  {
   "cell_type": "markdown",
   "metadata": {},
   "source": [
    "### Question 4\n",
    "\n",
    "_How did you train your model? (Type of optimizer, batch size, epochs, hyperparameters, etc.)_\n"
   ]
  },
  {
   "cell_type": "markdown",
   "metadata": {},
   "source": [
    "**Answer:**"
   ]
  },
  {
   "cell_type": "markdown",
   "metadata": {},
   "source": [
    "* Type of optimiser: AdamOptimizer\n",
    "* Batch size: 100\n",
    "* Training Epochs: 51\n",
    "* Learning rate: 0.001\n",
    "\n",
    "Network Parameters:\n",
    "* Dropout (conv layer): 0.9\n",
    "* Dropout (fully connected layers): 0.9\n",
    "* Padding: VALID"
   ]
  },
  {
   "cell_type": "markdown",
   "metadata": {},
   "source": [
    "#### How I chose the number of epochs:\n"
   ]
  },
  {
   "cell_type": "code",
   "execution_count": null,
   "metadata": {
    "collapsed": false
   },
   "outputs": [],
   "source": [
    "epochs_results = pd.read_csv('logs/tsc-p2-submission-2-model-perf.csv')\n",
    "epochs_results.plot(x='epoch', y='validation_accuracy', \n",
    "                    title='Validation accuracy')"
   ]
  },
  {
   "cell_type": "markdown",
   "metadata": {},
   "source": [
    "Eyeballing the graph, we can see that the validation accuracy begins to level off at around the fortieth epoch. We will thus want to reduce the number of epochs from 150 to achieve a balance (tradeoff) between training time and accuracy and to avoid overfitting.\n",
    "\n",
    "To determine the number of training epochs, we will use a 5-period moving average of validation accuracy. Once this reaches 96%, we will stop training the model. We use a 5-epoch moving average instead of a one-epoch figure beacuse we don't want to stop training the model if it happens by chance that the training accuracy is extremely high one period. (This is unlikely given the large number of validation datapoints but this gives us more robust results even if there are no freak cases.) We want to require that the model be consistently accurate before we stop training.\n",
    "\n"
   ]
  },
  {
   "cell_type": "code",
   "execution_count": null,
   "metadata": {
    "collapsed": false
   },
   "outputs": [],
   "source": [
    "epochs_results.plot(x='epoch', y='five_epoch_moving_average', \n",
    "                    title='Validation accuracy (five-epoch moving average)')"
   ]
  },
  {
   "cell_type": "markdown",
   "metadata": {},
   "source": [
    "This curve is much smoother than the previous curve. The five-epoch-moving-average first surpasses 0.96 in Epoch 53, where the moving average is 0.960393 and the epoch validation accuracy is 0.966463.\n",
    "\n",
    "I incorporated this so the model stops training after `five_epoch_moving_average > 0.96`. In the latest training run, training stopped after 51 epochs. "
   ]
  },
  {
   "cell_type": "markdown",
   "metadata": {},
   "source": [
    "*Aside*:\n",
    "\n",
    "Additional info on AdamOptimizer from [StackOverflow](http://stats.stackexchange.com/questions/184448/difference-between-gradientdescentoptimizer-and-adamoptimizer-tensorflow) (mrry):\n",
    "* tf.train.AdamOptimizer uses Kingma and Ba's Adam algorithm to control the learning rate. \n",
    "* Main advantage of Adam over the simple `tf.train.GradientDescentOptimizer`:\n",
    "    * Uses moving averages of the parameters (momentum) -> enables Adam to use a larger effective step size, and the algorithm will converge to this step size without fine tuning. \n",
    "        * Bengio discusses the reasons for why this is beneficial in Section 3.1.1 of [this paper](http://arxiv.org/pdf/1206.5533.pdf). \n",
    "    * A simple tf.train.GradientDescentOptimizer would require more hyperparameter tuning before it would converge as quickly.'\n",
    "\n",
    "* Disadvantage: \n",
    "    * Adam requires more computation to be performed for each parameter in each training step (to maintain the moving averages and variance, and calculate the scaled gradient); and more state to be retained for each parameter (approximately tripling the size of the model to store the average and variance for each parameter). \n"
   ]
  },
  {
   "cell_type": "markdown",
   "metadata": {},
   "source": [
    "### Question 5\n",
    "\n",
    "\n",
    "_What approach did you take in coming up with a solution to this problem?_"
   ]
  },
  {
   "cell_type": "markdown",
   "metadata": {},
   "source": [
    "**Answer:**\n",
    "\n",
    "**1. First attempt: building a minimum viable model and debugging**\n",
    "- I wanted to get a working model first. I started with a basic multilayer perceptron which I adapted from `TensorFlow-Examples`. I trained it for 15 epochs, which had an accuracy of 6% on the training and test sets. I then trained a two-layer convolutional neural network for 15 epochs which had an accuracy of 5-6% on the training and test sets. \n",
    "    - The accuracy was lower than I expected and the cost seemed high (of order 10^6 in the first epoch, 10^5 in the second and third and in the hundreds in the tenth epoch), so I adjusted parameters hoping to improve it before training for longer.\n",
    "    - The cost reduced significantly (to single digits by the second epoch as opposed to order 10^5) after I added a small positive bias to the initial weights and biases. Strangely, the accuracy did not increase, but remained at 5-6%. The cost did not decrease significantly over the next 10 epochs either.\n",
    "    - I went on Slack to see what results people were getting to get a feel for how wrong I was. I saw that people often trained their networks for hundreds of epochs so I thought it would be good to train my network for e.g. 100 epochs.\n",
    "- I rewrote the multilayer perceptron in a Python Script and it worked fine, returning an accuracy of over 70% accuracy within 2 epochs.\n",
    "\n",
    "**2. Improvements to the model**\n",
    "- I then added a convolution layer before the two fully connected layers and the output layer.\n",
    "- This new model produced a validation accuracy of above 90% after 15 epochs (parameters not tuned), which was higher than that for the two-layer feedforward network. So I chose this model with a convolution layer.\n",
    "\n",
    "** 3. Tuning Parameters**\n",
    "- I altered the model code (replaced hard-coded numbers with variables) so I could tweak parameters easily.\n",
    "- I tested models with different values or settings for\n",
    "    * dropout for the fully connected layers,\n",
    "    * dropout for the convolution layer,\n",
    "    * padding (SAME vs VALID),\n",
    "    * weight and bias initialisation\n",
    "    * maxpool vs no max pool\n",
    "- I used Keras to implement comparisons so I could get full figures on training and validation loss and accuracy easily.\n",
    "- I stopped when the model reached a validation accuracy of over 95% within 100 epochs. \n",
    "    * This figure is strange because my models implemented in Keras reach validation accuracy of over 99% within 15 epochs.\n"
   ]
  },
  {
   "cell_type": "markdown",
   "metadata": {},
   "source": [
    "---\n",
    "## Step 3: Test a Model on New Images\n",
    "\n",
    "Take several pictures of traffic signs that you find on the web or around you (at least five), and run them through your classifier on your computer to produce example results. The classifier might not recognize some local signs but it could prove interesting nonetheless.\n",
    "\n",
    "You may find `signnames.csv` useful as it contains mappings from the class id (integer) to the actual sign name."
   ]
  },
  {
   "cell_type": "markdown",
   "metadata": {},
   "source": [
    "### Implementation\n",
    "\n",
    "Use the code cell (or multiple code cells, if necessary) to implement the first step of your project. Once you have completed your implementation and are satisfied with the results, be sure to thoroughly answer the questions that follow."
   ]
  },
  {
   "cell_type": "markdown",
   "metadata": {},
   "source": [
    "### 3.1 New Images"
   ]
  },
  {
   "cell_type": "markdown",
   "metadata": {},
   "source": [
    "### Question 6\n",
    "\n",
    "_Choose five candidate images of traffic signs and provide them in the report. Are there any particular qualities of the image(s) that might make classification difficult? It would be helpful to plot the images in the notebook._"
   ]
  },
  {
   "cell_type": "markdown",
   "metadata": {},
   "source": [
    "**Answer:**\n",
    "\n",
    "(Special characteristics of images are noted in the comments)"
   ]
  },
  {
   "cell_type": "code",
   "execution_count": null,
   "metadata": {
    "collapsed": true
   },
   "outputs": [],
   "source": [
    "# Helper function to read image copied from lane lines project\n",
    "def read_image_and_print_dims(image_path):\n",
    "    \"\"\"Reads and returns image.\n",
    "    Helper function to examine how an image is represented.\n",
    "    \"\"\"\n",
    "    #reading in an image\n",
    "    image = mpimg.imread(image_path)\n",
    "    #printing out some stats and plotting\n",
    "    print('This image is:', type(image), 'with dimensions:', image.shape)\n",
    "    plt.imshow(image)  #call as plt.imshow(gray, cmap='gray') to show a grayscaled image\n",
    "    return image"
   ]
  },
  {
   "cell_type": "code",
   "execution_count": null,
   "metadata": {
    "collapsed": false
   },
   "outputs": [],
   "source": [
    "# This sign is not in English. It is a stop sign.\n",
    "# There are multiple signs in the picture. \n",
    "# What wil the model attempt to recognise?\n",
    "japanese_sign = read_image_and_print_dims('traffic-sign-data/japanese-sign.jpg')"
   ]
  },
  {
   "cell_type": "code",
   "execution_count": null,
   "metadata": {
    "collapsed": false
   },
   "outputs": [],
   "source": [
    "# There is other intervening text in the image.\n",
    "# This sign is shown at an angle.\n",
    "german_sign = read_image_and_print_dims('traffic-sign-data/german-sign.jpg')"
   ]
  },
  {
   "cell_type": "code",
   "execution_count": null,
   "metadata": {
    "collapsed": false,
    "scrolled": true
   },
   "outputs": [],
   "source": [
    "# This sign is quite clear.\n",
    "two_way_sign = read_image_and_print_dims('traffic-sign-data/two-way-sign.jpg')"
   ]
  },
  {
   "cell_type": "code",
   "execution_count": null,
   "metadata": {
    "collapsed": false,
    "scrolled": true
   },
   "outputs": [],
   "source": [
    "# Can the model recognise the 20 km/h sign as a speed limit sign\n",
    "# even though it has different background colour, different shape\n",
    "# and additional 'km/h' text?\n",
    "speed_limit_stop = read_image_and_print_dims('traffic-sign-data/speed-limit-stop.JPG')"
   ]
  },
  {
   "cell_type": "code",
   "execution_count": null,
   "metadata": {
    "collapsed": false,
    "scrolled": true
   },
   "outputs": [],
   "source": [
    "# What will the model think this is?\n",
    "shark_sign = read_image_and_print_dims('traffic-sign-data/shark-sign.jpg')"
   ]
  },
  {
   "cell_type": "raw",
   "metadata": {
    "collapsed": true
   },
   "source": [
    "# Crop signs\n",
    "japanese_sign_cropped = japanese_sign[0:160,25:185,:]\n",
    "plt.imshow(japanese_sign_cropped)\n",
    "german_sign_cropped = german_sign[:280,:280,:]\n",
    "plt.imshow(german_sign_cropped)\n",
    "two_way_sign_cropped = two_way_sign[:350,:350,:]\n",
    "plt.imshow(two_way_sign_cropped)\n",
    "speed_limit_stop_cropped = speed_limit_stop[450:850,200:600,:]\n",
    "plt.imshow(speed_limit_stop_cropped)\n",
    "shark_sign_cropped = shark_sign[:,:1298,:]\n",
    "plt.imshow(shark_sign_cropped)"
   ]
  },
  {
   "cell_type": "raw",
   "metadata": {
    "collapsed": true
   },
   "source": [
    "import cv2 "
   ]
  },
  {
   "cell_type": "raw",
   "metadata": {
    "collapsed": false
   },
   "source": [
    "# shark_sign_cropped.reshape(28,28)\n",
    "def resize_to_32_32(sign_cropped):\n",
    "    \"\"\"Resizes square image to 32 x 32 pixels.\"\"\"\n",
    "    return cv2.resize(sign_cropped, (32, 32))\n",
    "\n",
    "japanese_sign_reshaped = resize_to_32_32(japanese_sign_cropped)\n",
    "german_sign_reshaped = resize_to_32_32(german_sign_cropped)\n",
    "two_way_sign_reshaped = resize_to_32_32(two_way_sign_cropped)\n",
    "speed_limit_stop_reshaped = resize_to_32_32(speed_limit_stop_cropped)\n",
    "shark_sign_reshaped = resize_to_32_32(shark_sign_cropped)"
   ]
  },
  {
   "cell_type": "raw",
   "metadata": {
    "collapsed": true
   },
   "source": [
    "def resize_and_save_square_image(image, image_name):\n",
    "    \"\"\"Resizes square image to 32 x 32 pixels and saves it as a PNG\n",
    "    with name `image_name.png`.\"\"\"\n",
    "    cv2.imwrite(\"traffic-sign-data/\" + image_name, cv2.resize(image, (32, 32)))"
   ]
  },
  {
   "cell_type": "raw",
   "metadata": {},
   "source": [
    "# Code used to save resized images to png files\n",
    "list_of_images = [japanese_sign_cropped, german_sign_cropped, \n",
    "                  two_way_sign_cropped, speed_limit_stop_cropped,\n",
    "                  shark_sign_cropped]\n",
    "resize_and_save_square_image(japanese_sign_cropped, \"japanese_sign_resized.png\")\n",
    "resize_and_save_square_image(german_sign_cropped, \"german_sign_resized.png\")\n",
    "resize_and_save_square_image(two_way_sign_cropped, \"two_way_sign_resized.png\")\n",
    "resize_and_save_square_image(speed_limit_stop_cropped, \"speed_limit_stop_resized.png\")\n",
    "resize_and_save_square_image(shark_sign_cropped, \"shark_sign_resized.png\")"
   ]
  },
  {
   "cell_type": "markdown",
   "metadata": {},
   "source": [
    "### 3.2 The Model's Predictions on the New Images"
   ]
  },
  {
   "cell_type": "code",
   "execution_count": null,
   "metadata": {
    "collapsed": false,
    "scrolled": false
   },
   "outputs": [],
   "source": [
    "### Run the predictions here.\n",
    "### Feel free to use as many code cells as needed.\n",
    "def predict(img):\n",
    "    \"\"\"Print model's prediction of which traffic sign this image is.\"\"\"\n",
    "    classification = sess.run(tf.argmax(pred, 1), feed_dict={x_unflattened: [img]})\n",
    "    print(classification)\n",
    "    print('NN predicted', classification[0])"
   ]
  },
  {
   "cell_type": "code",
   "execution_count": null,
   "metadata": {
    "collapsed": true
   },
   "outputs": [],
   "source": [
    "def show_and_pred_X_train(index):\n",
    "    \"\"\"Show image from training set and print model's prediction \n",
    "    (of which traffic sign this image is).\n",
    "    \"\"\"\n",
    "    plt.imshow(X_train[index])\n",
    "    predict(X_train[index])"
   ]
  },
  {
   "cell_type": "code",
   "execution_count": null,
   "metadata": {
    "collapsed": true
   },
   "outputs": [],
   "source": [
    "def show_and_pred_image(image):\n",
    "    \"\"\"Show image and print model's prediction (of which traffic \n",
    "    sign this image is).\n",
    "    \"\"\"\n",
    "    plt.imshow(image)\n",
    "    predict(image)"
   ]
  },
  {
   "cell_type": "code",
   "execution_count": null,
   "metadata": {
    "collapsed": true
   },
   "outputs": [],
   "source": [
    "def read_show_and_pred_image(image_path):\n",
    "    \"\"\"Read image, show image and print model's prediction (of \n",
    "    which traffic sign this image is).\n",
    "    \"\"\"\n",
    "    # Read in image from file\n",
    "    image = mpimg.imread(image_path)\n",
    "    # Show image\n",
    "    # Call as plt.imshow(gray, cmap='gray') to show a grayscaled image\n",
    "    plt.imshow(image) \n",
    "    predict(image)\n",
    "    return image"
   ]
  },
  {
   "cell_type": "code",
   "execution_count": null,
   "metadata": {
    "collapsed": false
   },
   "outputs": [],
   "source": [
    "show_and_pred_X_train(40)"
   ]
  },
  {
   "cell_type": "code",
   "execution_count": null,
   "metadata": {
    "collapsed": true
   },
   "outputs": [],
   "source": [
    "def read_show_and_pred_image_tsdata(image_name):\n",
    "    \"\"\"Read image from dir `traffic-sign-data`, show image and print model's prediction (of \n",
    "    which traffic sign this image is).\n",
    "    \"\"\"\n",
    "    return read_show_and_pred_image('traffic-sign-data/' + image_name) "
   ]
  },
  {
   "cell_type": "code",
   "execution_count": null,
   "metadata": {
    "collapsed": false
   },
   "outputs": [],
   "source": [
    "japanese_sign = read_show_and_pred_image_tsdata(\"japanese_sign_resized.png\")"
   ]
  },
  {
   "cell_type": "markdown",
   "metadata": {},
   "source": [
    "This is a Japanese stop sign, though it looks like a Yield sign.\n",
    "The network predicts this is a Roundabout Mandatory sign, which is completely different."
   ]
  },
  {
   "cell_type": "code",
   "execution_count": null,
   "metadata": {
    "collapsed": false
   },
   "outputs": [],
   "source": [
    "german_sign = read_show_and_pred_image_tsdata(\"german_sign_resized.png\")"
   ]
  },
  {
   "cell_type": "markdown",
   "metadata": {},
   "source": [
    "This is a no parking zone sign. The network predicts this is a 'Right-of-way at the next intersection' sign. They are not similar."
   ]
  },
  {
   "cell_type": "code",
   "execution_count": null,
   "metadata": {
    "collapsed": false
   },
   "outputs": [],
   "source": [
    "two_way_sign = read_show_and_pred_image_tsdata(\"two_way_sign_resized.png\")"
   ]
  },
  {
   "cell_type": "markdown",
   "metadata": {},
   "source": [
    "The network predicts this is a Go straight or left sign. They are similar in that there precisely two curved arrows in both signs."
   ]
  },
  {
   "cell_type": "code",
   "execution_count": null,
   "metadata": {
    "collapsed": false
   },
   "outputs": [],
   "source": [
    "speed_limit_stop = read_show_and_pred_image_tsdata(\"speed_limit_stop_resized.png\")"
   ]
  },
  {
   "cell_type": "markdown",
   "metadata": {},
   "source": [
    "The network predicts this is a roundabout mandatory sign (40). This is wrong- it should be 20km/h speed limit (0). The network may have been confused by the many curves that make up the sign."
   ]
  },
  {
   "cell_type": "code",
   "execution_count": null,
   "metadata": {
    "collapsed": false
   },
   "outputs": [],
   "source": [
    "shark_sign = read_show_and_pred_image_tsdata(\"shark_sign_resized.png\")"
   ]
  },
  {
   "cell_type": "markdown",
   "metadata": {},
   "source": [
    "The network predicts this is a roundabout mandatory sign. This is wrong, but then there is no correct class within the 43 for this sign. \n",
    "* It is unclear why this sign should be the roundabout mandatory sign of all signs. \n",
    "    * There are not many curved arrows - the black portion of the sign is small and is close to a short horizontal line segment in the middle of the sign.\n",
    "    * The diamond-shaped sign could have indicated Priority Road (12)."
   ]
  },
  {
   "cell_type": "markdown",
   "metadata": {},
   "source": [
    "### Question 7\n",
    "\n",
    "_Is your model able to perform equally well on captured pictures or a live camera stream when compared to testing on the dataset?_\n"
   ]
  },
  {
   "cell_type": "markdown",
   "metadata": {},
   "source": [
    "**Answer:**\n",
    "\n",
    "(Answer applied to captured pictures)\n",
    "\n",
    "No, it does not perform equally well on captured images. It has a performance of 0% accuracy on captured images as opposed to 79% on the test set.\n",
    "\n",
    "* The images not included in the dataset are not exactly the same road signs so there is additional difficulty because the model needs to generalise well to classify these new signs correctly. The\n",
    "* Some road signs such as the shark sign may not even be included in the 43 categories.\n",
    "* The images are also processed (e.g. cropped) differently.\n",
    "\n",
    "It seems that the model is classifying 'unknown signs' as Roundabout Mandatory signs.\n",
    "\n",
    "Reference for images of correct German signage: http://www.gettingaroundgermany.info/zeichen.shtml"
   ]
  },
  {
   "cell_type": "markdown",
   "metadata": {},
   "source": [
    "### 3.3 Visualising the certainty of the model's predictions"
   ]
  },
  {
   "cell_type": "code",
   "execution_count": null,
   "metadata": {
    "collapsed": true
   },
   "outputs": [],
   "source": [
    "### Visualize the softmax probabilities here.\n",
    "### Feel free to use as many code cells as needed.\n",
    "\n",
    "def certainty_of_predictions(img):\n",
    "    \"\"\"Return model's top five choices for what traffic sign \n",
    "    this image is and its confidence in its predictions.\n",
    "    \"\"\"\n",
    "    top_five = sess.run(tf.nn.top_k(tf.nn.softmax(pred), k=5), feed_dict={x_unflattened: [img]})\n",
    "    print(\"Top five: \", top_five)\n",
    "    return top_five"
   ]
  },
  {
   "cell_type": "code",
   "execution_count": null,
   "metadata": {
    "collapsed": true
   },
   "outputs": [],
   "source": [
    "def show_and_pred_certainty_image(image):\n",
    "    plt.imshow(image)\n",
    "    return certainty_of_predictions(image)"
   ]
  },
  {
   "cell_type": "code",
   "execution_count": null,
   "metadata": {
    "collapsed": true
   },
   "outputs": [],
   "source": [
    "def show_and_pred_certainty_X_train(index):\n",
    "    \"\"\"Show image from training set and print model's certainty of its \n",
    "    prediction (of which traffic sign this image is).\n",
    "    \"\"\"\n",
    "    plt.imshow(X_train[index])\n",
    "    return certainty_of_predictions(X_train[index])"
   ]
  },
  {
   "cell_type": "code",
   "execution_count": null,
   "metadata": {
    "collapsed": false
   },
   "outputs": [],
   "source": [
    "sign_names = pd.read_csv(\"signnames.csv\")\n",
    "sign_names.head()"
   ]
  },
  {
   "cell_type": "code",
   "execution_count": null,
   "metadata": {
    "collapsed": true
   },
   "outputs": [],
   "source": [
    "def plot_certainty_arrays(probabilities, labels):\n",
    "    \"\"\"Plot model's probabilities (y) and traffic sign labels (x) \n",
    "    in a bar chart.\n",
    "    \"\"\"\n",
    "    y_pos = np.arange(len(labels))\n",
    "    performance = [10,8,6,4,2,1]\n",
    "\n",
    "    plt.bar(y_pos, probabilities, align='center', alpha=0.5)\n",
    "    plt.xticks(y_pos, labels)\n",
    "    plt.ylabel('Probability')\n",
    "    plt.xlabel('Traffic sign')\n",
    "    plt.title('Model\\'s certainty of its predictions')\n",
    "\n",
    "    plt.show()\n",
    "    print(\"Traffic Sign Key\")\n",
    "    for label in labels:\n",
    "        print(label, \": \", sign_names.loc[label]['SignName'])\n",
    "    "
   ]
  },
  {
   "cell_type": "code",
   "execution_count": null,
   "metadata": {
    "collapsed": false,
    "scrolled": false
   },
   "outputs": [],
   "source": [
    "show_and_pred_certainty_X_train(40)"
   ]
  },
  {
   "cell_type": "code",
   "execution_count": null,
   "metadata": {
    "collapsed": false
   },
   "outputs": [],
   "source": [
    "plot_certainty_arrays([ 1.,  0.,  0.,  0.,  0.], [0, 1, 2, 3, 4])"
   ]
  },
  {
   "cell_type": "code",
   "execution_count": null,
   "metadata": {
    "collapsed": false
   },
   "outputs": [],
   "source": [
    "japanese_sign_certainties = show_and_pred_certainty_image(japanese_sign)"
   ]
  },
  {
   "cell_type": "code",
   "execution_count": null,
   "metadata": {
    "collapsed": false
   },
   "outputs": [],
   "source": [
    "japanese_sign_certainties[1][0]\n"
   ]
  },
  {
   "cell_type": "code",
   "execution_count": null,
   "metadata": {
    "collapsed": false
   },
   "outputs": [],
   "source": [
    "plot_certainty_arrays(japanese_sign_certainties[0][0],\n",
    "                      japanese_sign_certainties[1][0])"
   ]
  },
  {
   "cell_type": "code",
   "execution_count": null,
   "metadata": {
    "collapsed": false
   },
   "outputs": [],
   "source": [
    "german_sign_certainties = show_and_pred_certainty_image(german_sign)"
   ]
  },
  {
   "cell_type": "code",
   "execution_count": null,
   "metadata": {
    "collapsed": false
   },
   "outputs": [],
   "source": [
    "plot_certainty_arrays(german_sign_certainties[0][0], \n",
    "                      german_sign_certainties[1][0])"
   ]
  },
  {
   "cell_type": "code",
   "execution_count": null,
   "metadata": {
    "collapsed": false
   },
   "outputs": [],
   "source": [
    "two_way_sign_certainties = show_and_pred_certainty_image(two_way_sign)"
   ]
  },
  {
   "cell_type": "code",
   "execution_count": null,
   "metadata": {
    "collapsed": false
   },
   "outputs": [],
   "source": [
    "plot_certainty_arrays(two_way_sign_certainties[0][0], two_way_sign_certainties[1][0])"
   ]
  },
  {
   "cell_type": "code",
   "execution_count": null,
   "metadata": {
    "collapsed": false
   },
   "outputs": [],
   "source": [
    "speed_limit_stop_certainties = show_and_pred_certainty_image(speed_limit_stop)"
   ]
  },
  {
   "cell_type": "code",
   "execution_count": null,
   "metadata": {
    "collapsed": false
   },
   "outputs": [],
   "source": [
    "plot_certainty_arrays(speed_limit_stop_certainties[0][0],\n",
    "                      speed_limit_stop_certainties[1][0])"
   ]
  },
  {
   "cell_type": "code",
   "execution_count": null,
   "metadata": {
    "collapsed": false
   },
   "outputs": [],
   "source": [
    "shark_sign_certainties = show_and_pred_certainty_image(shark_sign)"
   ]
  },
  {
   "cell_type": "code",
   "execution_count": null,
   "metadata": {
    "collapsed": false
   },
   "outputs": [],
   "source": [
    "plot_certainty_arrays(shark_sign_certainties[0][0], shark_sign_certainties[1][0])"
   ]
  },
  {
   "cell_type": "markdown",
   "metadata": {},
   "source": [
    "### Question 8\n",
    "\n",
    "*Use the model's softmax probabilities to visualize the **certainty** of its predictions, [`tf.nn.top_k`](https://www.tensorflow.org/versions/r0.11/api_docs/python/nn.html#top_k) could prove helpful here. Which predictions is the model certain of? Uncertain? If the model was incorrect in its initial prediction, does the correct prediction appear in the top k? (k should be 5 at most)*\n"
   ]
  },
  {
   "cell_type": "markdown",
   "metadata": {},
   "source": [
    "**Answer:**\n",
    "\n",
    "(see code above)"
   ]
  },
  {
   "cell_type": "markdown",
   "metadata": {},
   "source": [
    "* The model is certain of all of its predictions even though some are wrong. \n",
    "* The model also predicts different outcomes confidently for the two times I ran the predictions on each sign. \n",
    "\n",
    "These are both strange outcomes.\n"
   ]
  },
  {
   "cell_type": "markdown",
   "metadata": {},
   "source": [
    "### Question 9\n",
    "_If necessary, provide documentation for how an interface was built for your model to load and classify newly-acquired images._\n"
   ]
  },
  {
   "cell_type": "markdown",
   "metadata": {},
   "source": [
    "**Answer:**\n",
    "Not applicable at the moment."
   ]
  },
  {
   "cell_type": "markdown",
   "metadata": {},
   "source": [
    "> **Note**: Once you have completed all of the code implementations and successfully answered each question above, you may finalize your work by exporting the iPython Notebook as an HTML document. You can do this by using the menu above and navigating to  \\n\",\n",
    "    \"**File -> Download as -> HTML (.html)**. Include the finished document along with this notebook as your submission."
   ]
  },
  {
   "cell_type": "code",
   "execution_count": null,
   "metadata": {
    "collapsed": true
   },
   "outputs": [],
   "source": [
    "# Close the current session.\n",
    "sess.close()"
   ]
  }
 ],
 "metadata": {
  "anaconda-cloud": {},
  "kernelspec": {
   "display_name": "Python [default]",
   "language": "python",
   "name": "python3"
  },
  "language_info": {
   "codemirror_mode": {
    "name": "ipython",
    "version": 3
   },
   "file_extension": ".py",
   "mimetype": "text/x-python",
   "name": "python",
   "nbconvert_exporter": "python",
   "pygments_lexer": "ipython3",
   "version": "3.5.2"
  }
 },
 "nbformat": 4,
 "nbformat_minor": 1
}
